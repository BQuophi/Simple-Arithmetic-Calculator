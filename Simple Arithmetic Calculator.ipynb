{
 "cells": [
  {
   "cell_type": "code",
   "execution_count": null,
   "id": "177ad341",
   "metadata": {},
   "outputs": [],
   "source": [
    "def add(x,y):\n",
    "    return x + y\n",
    "def substract(x,y):\n",
    "    return x - y\n",
    "def multiply(x,y):\n",
    "    return x * y\n",
    "def exponent(x,y):\n",
    "    return x ** y\n",
    "def divide(x,y):\n",
    "    return x / y\n",
    "def modulus(x,y):\n",
    "    return x % y \n",
    "\n",
    "print('Select an Arithmetic operation:')\n",
    "print('1.Addition')\n",
    "print('2.Substraction')\n",
    "print('3.Multiplication')\n",
    "print('4.Exponentiation')\n",
    "print('5.Division')\n",
    "print('6.Remainder')\n",
    "\n",
    "while True: \n",
    "    answer = input('Enter your choice here:')\n",
    "    \n",
    "    if answer in ('1','2','3','4','5','6'):\n",
    "        x = float(input('Enter the first number:'))\n",
    "        y = float(input('Enter the second number:'))\n",
    "        \n",
    "        if answer == '1':\n",
    "            print(x, '+', y ,'=', add(x,y))\n",
    "            \n",
    "        if answer == '2':\n",
    "            print(x, '-', y ,'=', substract(x,y))\n",
    "            \n",
    "        elif answer == '3':\n",
    "            print(x, '*', y ,'=', multiply(x,y))\n",
    "            \n",
    "        elif answer == '4':\n",
    "            print(x, '**', y ,'=', exponent(x,y))\n",
    "            \n",
    "        elif answer == '5':\n",
    "            print(x, '/', y ,'=', divide(x,y))\n",
    "            \n",
    "        elif answer == '6':\n",
    "            print(x, '%', y ,'=', modulus(x,y))"
   ]
  },
  {
   "cell_type": "code",
   "execution_count": null,
   "id": "8270406d",
   "metadata": {},
   "outputs": [],
   "source": []
  }
 ],
 "metadata": {
  "kernelspec": {
   "display_name": "Python 3 (ipykernel)",
   "language": "python",
   "name": "python3"
  },
  "language_info": {
   "codemirror_mode": {
    "name": "ipython",
    "version": 3
   },
   "file_extension": ".py",
   "mimetype": "text/x-python",
   "name": "python",
   "nbconvert_exporter": "python",
   "pygments_lexer": "ipython3",
   "version": "3.9.7"
  }
 },
 "nbformat": 4,
 "nbformat_minor": 5
}
